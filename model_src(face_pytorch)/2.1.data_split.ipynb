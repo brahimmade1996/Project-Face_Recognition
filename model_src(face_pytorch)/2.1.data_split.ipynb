{
 "cells": [
  {
   "cell_type": "code",
   "execution_count": 4,
   "metadata": {
    "ExecuteTime": {
     "end_time": "2020-07-17T04:14:33.627265Z",
     "start_time": "2020-07-17T04:14:33.621262Z"
    }
   },
   "outputs": [],
   "source": [
    "import torch\n",
    "from torchvision.datasets import ImageFolder\n",
    "from torch.utils.data import Subset\n",
    "from sklearn.model_selection import train_test_split\n",
    "from torchvision.transforms import Compose, ToTensor, Resize\n",
    "from torch.utils.data import DataLoader"
   ]
  },
  {
   "cell_type": "code",
   "execution_count": 12,
   "metadata": {
    "ExecuteTime": {
     "end_time": "2020-07-17T04:21:02.769257Z",
     "start_time": "2020-07-17T04:21:02.763264Z"
    }
   },
   "outputs": [],
   "source": [
    "def train_val_dataset(dataset, val_split=0.25):\n",
    "    train_idx, val_idx = train_test_split(list(range(len(dataset))), test_size =val_split)\n",
    "    datasets ={}\n",
    "    datasets['train'] = Subset(dataset, train_idx)\n",
    "    datasets['val'] = Subset(dataset, val_idx)\n",
    "    return datasets"
   ]
  },
  {
   "cell_type": "code",
   "execution_count": 16,
   "metadata": {
    "ExecuteTime": {
     "end_time": "2020-07-17T04:22:04.515257Z",
     "start_time": "2020-07-17T04:21:58.387267Z"
    }
   },
   "outputs": [
    {
     "name": "stdout",
     "output_type": "stream",
     "text": [
      "295\n",
      "221\n",
      "74\n",
      "Dataset ImageFolder\n",
      "    Number of datapoints: 295\n",
      "    Root location: ../data/small_vgg/small_vgg_112x112/train\n",
      "    StandardTransform\n",
      "Transform: Compose(\n",
      "               Resize(size=(112, 112), interpolation=PIL.Image.BILINEAR)\n",
      "               ToTensor()\n",
      "           )\n",
      "torch.Size([32, 3, 112, 112]) torch.Size([32])\n"
     ]
    }
   ],
   "source": [
    "data_path = '../data/small_vgg/small_vgg_112x112/train'\n",
    "dataset = ImageFolder(data_path, transform=Compose([Resize((112,112)), \n",
    "                                                    ToTensor()]))\n",
    "print(len(dataset))\n",
    "\n",
    "datasets = train_val_dataset(dataset)\n",
    "print(len(datasets['train']))\n",
    "print(len(datasets['val']))\n",
    "# The original dataset is available in the Subset class\n",
    "print(datasets['train'].dataset)\n",
    "\n",
    "dataloaders = {x:DataLoader(datasets[x],32, shuffle=True, num_workers=4) for x in ['train','val']}\n",
    "x,y = next(iter(dataloaders['train']))\n",
    "print(x.shape, y.shape)"
   ]
  },
  {
   "cell_type": "code",
   "execution_count": null,
   "metadata": {},
   "outputs": [],
   "source": []
  }
 ],
 "metadata": {
  "kernelspec": {
   "display_name": "Python 3",
   "language": "python",
   "name": "python3"
  },
  "language_info": {
   "codemirror_mode": {
    "name": "ipython",
    "version": 3
   },
   "file_extension": ".py",
   "mimetype": "text/x-python",
   "name": "python",
   "nbconvert_exporter": "python",
   "pygments_lexer": "ipython3",
   "version": "3.7.6"
  },
  "toc": {
   "base_numbering": 1,
   "nav_menu": {},
   "number_sections": false,
   "sideBar": true,
   "skip_h1_title": false,
   "title_cell": "Table of Contents",
   "title_sidebar": "Contents",
   "toc_cell": false,
   "toc_position": {},
   "toc_section_display": true,
   "toc_window_display": false
  }
 },
 "nbformat": 4,
 "nbformat_minor": 4
}
