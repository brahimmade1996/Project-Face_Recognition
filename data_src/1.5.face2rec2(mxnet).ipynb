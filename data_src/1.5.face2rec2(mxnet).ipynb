{
 "cells": [
  {
   "cell_type": "markdown",
   "metadata": {},
   "source": [
    "# face2rec2.py"
   ]
  },
  {
   "cell_type": "code",
   "execution_count": 96,
   "metadata": {
    "ExecuteTime": {
     "end_time": "2020-07-16T13:02:27.998203Z",
     "start_time": "2020-07-16T13:02:27.990205Z"
    }
   },
   "outputs": [],
   "source": [
    "import os\n",
    "import sys\n",
    "\n",
    "#curr_path = os.path.abspath(os.path.dirname(__file__))\n",
    "#sys.path.append(os.path.join(curr_path, \"../python\"))\n",
    "import mxnet as mx\n",
    "from skimage import transform as trans\n",
    "\n",
    "\n",
    "import random\n",
    "import argparse\n",
    "import cv2\n",
    "import time, json\n",
    "import numpy as np\n",
    "import traceback\n",
    "#from builtins import range\n",
    "from easydict import EasyDict as edict\n",
    "# sys.path.append(os.path.join(os.path.dirname(__file__), '..', 'common'))\n",
    "# import face_preprocess\n",
    "# import face_image\n",
    "\n",
    "try:\n",
    "    import multiprocessing\n",
    "except ImportError:\n",
    "    multiprocessing = None"
   ]
  },
  {
   "cell_type": "markdown",
   "metadata": {},
   "source": [
    "### face_process.py"
   ]
  },
  {
   "cell_type": "code",
   "execution_count": 97,
   "metadata": {
    "ExecuteTime": {
     "end_time": "2020-07-16T13:03:50.060028Z",
     "start_time": "2020-07-16T13:03:50.044025Z"
    }
   },
   "outputs": [],
   "source": [
    "def parse_lst_line(line):\n",
    "  vec = line.strip().split(\"\\t\")\n",
    "  assert len(vec)>=3\n",
    "  aligned = int(vec[0])\n",
    "  image_path = vec[1]\n",
    "  label = int(vec[2])\n",
    "  bbox = None\n",
    "  landmark = None\n",
    "  #print(vec)\n",
    "  if len(vec)>3:\n",
    "    bbox = np.zeros( (4,), dtype=np.int32)\n",
    "    for i in xrange(3,7):\n",
    "      bbox[i-3] = int(vec[i])\n",
    "    landmark = None\n",
    "    if len(vec)>7:\n",
    "      _l = []\n",
    "      for i in xrange(7,17):\n",
    "        _l.append(float(vec[i]))\n",
    "      landmark = np.array(_l).reshape( (2,5) ).T\n",
    "  #print(aligned)\n",
    "  return image_path, label, bbox, landmark, aligned"
   ]
  },
  {
   "cell_type": "code",
   "execution_count": null,
   "metadata": {
    "ExecuteTime": {
     "end_time": "2020-07-16T01:21:50.166397Z",
     "start_time": "2020-07-16T01:21:50.113402Z"
    }
   },
   "outputs": [],
   "source": [
    "def read_image(img_path, **kwargs):\n",
    "  mode = kwargs.get('mode', 'rgb')\n",
    "  layout = kwargs.get('layout', 'HWC')\n",
    "  if mode=='gray':\n",
    "    img = cv2.imread(img_path, cv2.CV_LOAD_IMAGE_GRAYSCALE)\n",
    "  else:\n",
    "    img = cv2.imread(img_path, cv2.CV_LOAD_IMAGE_COLOR)\n",
    "    if mode=='rgb':\n",
    "      #print('to rgb')\n",
    "      img = img[...,::-1]\n",
    "    if layout=='CHW':\n",
    "      img = np.transpose(img, (2,0,1))\n",
    "  return img"
   ]
  },
  {
   "cell_type": "code",
   "execution_count": 8,
   "metadata": {
    "ExecuteTime": {
     "end_time": "2020-07-16T01:21:50.166397Z",
     "start_time": "2020-07-16T01:21:50.113402Z"
    }
   },
   "outputs": [],
   "source": [
    "def preprocess(img, bbox=None, landmark=None, **kwargs):\n",
    "  if isinstance(img, str):\n",
    "    img = read_image(img, **kwargs)\n",
    "  M = None\n",
    "  image_size = []\n",
    "  str_image_size = kwargs.get('image_size', '')\n",
    "  if len(str_image_size)>0:\n",
    "    image_size = [int(x) for x in str_image_size.split(',')]\n",
    "    if len(image_size)==1:\n",
    "      image_size = [image_size[0], image_size[0]]\n",
    "    assert len(image_size)==2\n",
    "    assert image_size[0]==112\n",
    "    assert image_size[0]==112 or image_size[1]==96\n",
    "  if landmark is not None:\n",
    "    assert len(image_size)==2\n",
    "    src = np.array([\n",
    "      [30.2946, 51.6963],\n",
    "      [65.5318, 51.5014],\n",
    "      [48.0252, 71.7366],\n",
    "      [33.5493, 92.3655],\n",
    "      [62.7299, 92.2041] ], dtype=np.float32 )\n",
    "    if image_size[1]==112:\n",
    "      src[:,0] += 8.0\n",
    "    dst = landmark.astype(np.float32)\n",
    "\n",
    "    tform = trans.SimilarityTransform()\n",
    "    tform.estimate(dst, src)\n",
    "    M = tform.params[0:2,:]\n",
    "    #M = cv2.estimateRigidTransform( dst.reshape(1,5,2), src.reshape(1,5,2), False)\n",
    "\n",
    "  if M is None:\n",
    "    if bbox is None: #use center crop\n",
    "      det = np.zeros(4, dtype=np.int32)\n",
    "      det[0] = int(img.shape[1]*0.0625)\n",
    "      det[1] = int(img.shape[0]*0.0625)\n",
    "      det[2] = img.shape[1] - det[0]\n",
    "      det[3] = img.shape[0] - det[1]\n",
    "    else:\n",
    "      det = bbox\n",
    "    margin = kwargs.get('margin', 44)\n",
    "    bb = np.zeros(4, dtype=np.int32)\n",
    "    bb[0] = np.maximum(det[0]-margin/2, 0)\n",
    "    bb[1] = np.maximum(det[1]-margin/2, 0)\n",
    "    bb[2] = np.minimum(det[2]+margin/2, img.shape[1])\n",
    "    bb[3] = np.minimum(det[3]+margin/2, img.shape[0])\n",
    "    ret = img[bb[1]:bb[3],bb[0]:bb[2],:]\n",
    "    if len(image_size)>0:\n",
    "      ret = cv2.resize(ret, (image_size[1], image_size[0]))\n",
    "    return ret \n",
    "  else: #do align using landmark\n",
    "    assert len(image_size)==2\n",
    "\n",
    "    #src = src[0:3,:]\n",
    "    #dst = dst[0:3,:]\n",
    "\n",
    "\n",
    "    #print(src.shape, dst.shape)\n",
    "    #print(src)\n",
    "    #print(dst)\n",
    "    #print(M)\n",
    "    warped = cv2.warpAffine(img,M,(image_size[1],image_size[0]), borderValue = 0.0)\n",
    "\n",
    "    #tform3 = trans.ProjectiveTransform()\n",
    "    #tform3.estimate(src, dst)\n",
    "    #warped = trans.warp(img, tform3, output_shape=_shape)\n",
    "    return warped"
   ]
  },
  {
   "cell_type": "markdown",
   "metadata": {},
   "source": [
    "### face_image.py"
   ]
  },
  {
   "cell_type": "code",
   "execution_count": null,
   "metadata": {
    "ExecuteTime": {
     "end_time": "2020-07-16T08:21:20.609271Z",
     "start_time": "2020-07-16T08:21:20.511273Z"
    }
   },
   "outputs": [],
   "source": [
    "def load_property(data_dir):\n",
    "  prop = edict()\n",
    "  for line in open(os.path.join(data_dir, 'property')):\n",
    "    vec = line.strip().split(',')\n",
    "    assert len(vec)==3\n",
    "    prop.num_classes = int(vec[0])\n",
    "    prop.image_size = [int(vec[1]), int(vec[2])]\n",
    "  return prop"
   ]
  },
  {
   "cell_type": "markdown",
   "metadata": {},
   "source": [
    "### face2rec2.py"
   ]
  },
  {
   "cell_type": "code",
   "execution_count": 98,
   "metadata": {
    "ExecuteTime": {
     "end_time": "2020-07-16T13:05:35.480984Z",
     "start_time": "2020-07-16T13:05:35.460980Z"
    }
   },
   "outputs": [],
   "source": [
    "def read_list(path_in):\n",
    "    with open(path_in) as fin:\n",
    "        identities = []\n",
    "        last = [-1, -1]\n",
    "        _id = 1\n",
    "        while True:\n",
    "            line = fin.readline()\n",
    "            if not line:\n",
    "                break\n",
    "            item = edict()\n",
    "            \n",
    "            # flog = 0\n",
    "            item.flag = 0\n",
    "            item.image_path, label, item.bbox, item.landmark, item.aligned = parse_lst_line(line)\n",
    "            if not item.aligned and item.landmark is None:\n",
    "              #print('ignore line', line)\n",
    "              continue\n",
    "            item.id = _id\n",
    "            item.label = [label, item.aligned]\n",
    "            yield item\n",
    "            if label!=last[0]:\n",
    "              if last[1]>=0:\n",
    "                identities.append( (last[1], _id) )\n",
    "              last[0] = label\n",
    "              last[1] = _id\n",
    "            _id+=1\n",
    "        identities.append( (last[1], _id) )\n",
    "        item = edict()\n",
    "        \n",
    "        # flag == 2\n",
    "        item.flag = 2\n",
    "        item.id = 0\n",
    "        item.label = [float(_id), float(_id+len(identities))]\n",
    "        yield item\n",
    "        for identity in identities:\n",
    "          item = edict()\n",
    "          item.flag = 2\n",
    "          item.id = _id\n",
    "          _id+=1\n",
    "          item.label = [float(identity[0]), float(identity[1])]\n",
    "          yield item"
   ]
  },
  {
   "cell_type": "code",
   "execution_count": 128,
   "metadata": {
    "ExecuteTime": {
     "end_time": "2020-07-16T15:06:17.919655Z",
     "start_time": "2020-07-16T15:06:17.907653Z"
    }
   },
   "outputs": [],
   "source": [
    "def image_encode(args, i, item, q_out):\n",
    "#     print('flag:',item.flag)\n",
    "    oitem = [item.id]\n",
    "    \n",
    "    # 개별 이미지에 대한 정보\n",
    "    if item.flag==0:\n",
    "        fullpath = item.image_path\n",
    "        header = mx.recordio.IRHeader(item.flag, item.label, item.id, 0)\n",
    "#         print('header:',header)\n",
    "        \n",
    "        # align이 되어있을 때(112 * 112)\n",
    "        if item.aligned:\n",
    "            with open(fullpath, 'rb') as fin:\n",
    "                img = fin.read()\n",
    "            s = mx.recordio.pack(header, img)\n",
    "#             print('s',s)\n",
    "            q_out.put((i, s, oitem))\n",
    "            \n",
    "        # align이 되어있지 않을 때\n",
    "        else:\n",
    "            img = cv2.imread(fullpath, args.color)\n",
    "            assert item.landmark is not None\n",
    "            img = preprocess(img, bbox = item.bbox, landmark=item.landmark, image_size='%d,%d'%(args.image_h, args.image_w))\n",
    "            s = mx.recordio.pack_img(header, img, quality=args.quality, img_fmt=args.encoding)\n",
    "            \n",
    "#             print('s', s)\n",
    "            q_out.put((i, s, oitem))\n",
    "            \n",
    "    # dir에 대한 메타 정보\n",
    "    else: \n",
    "        header = mx.recordio.IRHeader(item.flag, item.label, item.id, 0)\n",
    "#         print('header:', header)\n",
    "        #print('write', item.flag, item.id, item.label)\n",
    "        s = mx.recordio.pack(header, b'')\n",
    "#         print('s', s)\n",
    "        q_out.put((i, s, oitem))"
   ]
  },
  {
   "cell_type": "markdown",
   "metadata": {},
   "source": [
    "# main()"
   ]
  },
  {
   "cell_type": "code",
   "execution_count": 129,
   "metadata": {
    "ExecuteTime": {
     "end_time": "2020-07-16T15:06:18.415121Z",
     "start_time": "2020-07-16T15:06:18.410158Z"
    }
   },
   "outputs": [],
   "source": [
    "args = edict({\n",
    "    'image_h': 112,\n",
    "    'image_w': 112,\n",
    "    'prefix': '../data/small_vgg',\n",
    "    'root': '../data/small_vgg/small_vgg_112x112',\n",
    "    'encoding':'.jpg',\n",
    "    'quality': 95,\n",
    "})"
   ]
  },
  {
   "cell_type": "code",
   "execution_count": 130,
   "metadata": {
    "ExecuteTime": {
     "end_time": "2020-07-16T15:06:19.117122Z",
     "start_time": "2020-07-16T15:06:19.109124Z"
    }
   },
   "outputs": [
    {
     "name": "stdout",
     "output_type": "stream",
     "text": [
      "image_size [112, 112]\n"
     ]
    }
   ],
   "source": [
    "working_dir = args.prefix\n",
    "prop = load_property(working_dir)\n",
    "image_size = prop.image_size\n",
    "print('image_size', image_size)"
   ]
  },
  {
   "cell_type": "code",
   "execution_count": 131,
   "metadata": {
    "ExecuteTime": {
     "end_time": "2020-07-16T15:06:19.529121Z",
     "start_time": "2020-07-16T15:06:19.519127Z"
    }
   },
   "outputs": [
    {
     "name": "stdout",
     "output_type": "stream",
     "text": [
      "['../data/small_vgg/property', '../data/small_vgg/small_vgg_112x112.idx', '../data/small_vgg/small_vgg_112x112.lst', '../data/small_vgg/small_vgg_112x112.rec']\n"
     ]
    }
   ],
   "source": [
    "files = [os.path.join(working_dir, fname).replace('\\\\','/') for fname in os.listdir(working_dir)\n",
    "        if os.path.isfile(os.path.join(working_dir, fname))]\n",
    "print(files)"
   ]
  },
  {
   "cell_type": "code",
   "execution_count": 132,
   "metadata": {
    "ExecuteTime": {
     "end_time": "2020-07-16T15:06:20.851124Z",
     "start_time": "2020-07-16T15:06:20.636124Z"
    }
   },
   "outputs": [
    {
     "name": "stdout",
     "output_type": "stream",
     "text": [
      "Creating .rec file from ../data/small_vgg/small_vgg_112x112.lst in ../data/small_vgg\n",
      "time: 0.0  count: 0\n"
     ]
    }
   ],
   "source": [
    "count = 0\n",
    "for fname in files:\n",
    "    # .lst file\n",
    "    if fname.startswith(args.prefix) and fname.endswith('.lst'):\n",
    "        print('Creating .rec file from', fname, 'in', working_dir)\n",
    "        count += 1\n",
    "        image_list = read_list(fname)\n",
    "\n",
    "        # -- write_record -- #\n",
    "        try:\n",
    "            import Queue as queue\n",
    "        except ImportError:\n",
    "            import queue\n",
    "        q_out = queue.Queue()\n",
    "        fname = os.path.basename(fname)\n",
    "        fname_rec = os.path.splitext(fname)[0] + '.rec'\n",
    "        fname_idx = os.path.splitext(fname)[0] + '.idx'\n",
    "        record = mx.recordio.MXIndexedRecordIO(os.path.join(working_dir, fname_idx),\n",
    "                                               os.path.join(working_dir, fname_rec), 'w')\n",
    "        cnt = 0\n",
    "        pre_time = time.time()\n",
    "        for i, item in enumerate(image_list):\n",
    "            image_encode(args, i, item, q_out)\n",
    "            if q_out.empty():\n",
    "                continue\n",
    "            _, s, item = q_out.get()\n",
    "            #header, _ = mx.recordio.unpack(s)\n",
    "            #print('write header label', header.label)\n",
    "#             print(item[0])\n",
    "            record.write_idx(item[0], s)\n",
    "            if cnt % 1000 == 0:\n",
    "                cur_time = time.time()\n",
    "                print('time:', cur_time - pre_time, ' count:', cnt)\n",
    "                pre_time = cur_time\n",
    "            cnt += 1"
   ]
  },
  {
   "cell_type": "code",
   "execution_count": 110,
   "metadata": {
    "ExecuteTime": {
     "end_time": "2020-07-16T13:16:24.498471Z",
     "start_time": "2020-07-16T13:16:24.491476Z"
    }
   },
   "outputs": [
    {
     "data": {
      "text/plain": [
       "{'flag': 0,\n",
       " 'image_path': '../data/small_vgg/small_vgg_112x112/train/n000001/0001_01.jpg',\n",
       " 'bbox': None,\n",
       " 'landmark': None,\n",
       " 'aligned': 1,\n",
       " 'id': 1,\n",
       " 'label': [0, 1]}"
      ]
     },
     "execution_count": 110,
     "metadata": {},
     "output_type": "execute_result"
    }
   ],
   "source": [
    "#iterator\n",
    "image_list.__next__()"
   ]
  },
  {
   "cell_type": "markdown",
   "metadata": {
    "ExecuteTime": {
     "end_time": "2020-07-16T11:52:51.627449Z",
     "start_time": "2020-07-16T11:52:51.574449Z"
    }
   },
   "source": [
    "# 이미지에 대한 정보\n",
    "### flag: 0\n",
    "- 개별 이미지에 대한 정보(모두 295개), \n",
    "\n",
    "> 1st dir : 241개\n",
    "- header: HEADER(flag=2, label=[1.0, 242.0], id=296, id2=0)\n",
    "\n",
    "> 2nd dir: 27개\n",
    "- header: HEADER(flag=2, label=[242.0, 269.0], id=297, id2=0)\n",
    "\n",
    "> 3rd dir: 27개\n",
    "- header: HEADER(flag=2, label=[269.0, 296.0], id=298, id2=0)\n",
    "\n"
   ]
  },
  {
   "cell_type": "code",
   "execution_count": null,
   "metadata": {},
   "outputs": [],
   "source": []
  },
  {
   "cell_type": "code",
   "execution_count": null,
   "metadata": {},
   "outputs": [],
   "source": []
  },
  {
   "cell_type": "code",
   "execution_count": null,
   "metadata": {},
   "outputs": [],
   "source": []
  },
  {
   "cell_type": "code",
   "execution_count": null,
   "metadata": {},
   "outputs": [],
   "source": []
  },
  {
   "cell_type": "code",
   "execution_count": null,
   "metadata": {},
   "outputs": [],
   "source": []
  },
  {
   "cell_type": "code",
   "execution_count": null,
   "metadata": {},
   "outputs": [],
   "source": []
  },
  {
   "cell_type": "code",
   "execution_count": null,
   "metadata": {},
   "outputs": [],
   "source": []
  },
  {
   "cell_type": "code",
   "execution_count": null,
   "metadata": {},
   "outputs": [],
   "source": []
  },
  {
   "cell_type": "code",
   "execution_count": null,
   "metadata": {},
   "outputs": [],
   "source": []
  },
  {
   "cell_type": "code",
   "execution_count": null,
   "metadata": {},
   "outputs": [],
   "source": []
  }
 ],
 "metadata": {
  "kernelspec": {
   "display_name": "Python 3",
   "language": "python",
   "name": "python3"
  },
  "language_info": {
   "codemirror_mode": {
    "name": "ipython",
    "version": 3
   },
   "file_extension": ".py",
   "mimetype": "text/x-python",
   "name": "python",
   "nbconvert_exporter": "python",
   "pygments_lexer": "ipython3",
   "version": "3.7.6"
  },
  "toc": {
   "base_numbering": 1,
   "nav_menu": {},
   "number_sections": false,
   "sideBar": true,
   "skip_h1_title": false,
   "title_cell": "Table of Contents",
   "title_sidebar": "Contents",
   "toc_cell": false,
   "toc_position": {},
   "toc_section_display": true,
   "toc_window_display": false
  }
 },
 "nbformat": 4,
 "nbformat_minor": 4
}
